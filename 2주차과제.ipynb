{
  "nbformat": 4,
  "nbformat_minor": 0,
  "metadata": {
    "colab": {
      "name": "2주차과제.ipynb",
      "provenance": [],
      "collapsed_sections": [],
      "authorship_tag": "ABX9TyM2X1/6M7D+YHmNy0zy+G1K",
      "include_colab_link": true
    },
    "kernelspec": {
      "name": "python3",
      "display_name": "Python 3"
    }
  },
  "cells": [
    {
      "cell_type": "markdown",
      "metadata": {
        "id": "view-in-github",
        "colab_type": "text"
      },
      "source": [
        "<a href=\"https://colab.research.google.com/github/pyunj/yun/blob/master/2%EC%A3%BC%EC%B0%A8%EA%B3%BC%EC%A0%9C.ipynb\" target=\"_parent\"><img src=\"https://colab.research.google.com/assets/colab-badge.svg\" alt=\"Open In Colab\"/></a>"
      ]
    },
    {
      "cell_type": "markdown",
      "metadata": {
        "id": "6LcO8SoUDUfa",
        "colab_type": "text"
      },
      "source": [
        "## **2주차 과제**"
      ]
    },
    {
      "cell_type": "markdown",
      "metadata": {
        "id": "5LGUO1b5Dgh3",
        "colab_type": "text"
      },
      "source": [
        "* 파이썬 문제\n",
        "* 인공지능 수학문제"
      ]
    },
    {
      "cell_type": "markdown",
      "metadata": {
        "id": "JcbDrfRnDlZH",
        "colab_type": "text"
      },
      "source": [
        "## **XX번문제(List add)**\n",
        "\n",
        "  다음 리스트에서 4,5,6을 추가하여 [1,2,3,4,5,6] 출력해서 보여주세요"
      ]
    },
    {
      "cell_type": "code",
      "metadata": {
        "id": "mMxYdIsQEEqf",
        "colab_type": "code",
        "outputId": "7c6f780c-4857-4d8c-b05b-41c7bd9c162e",
        "colab": {
          "base_uri": "https://localhost:8080/",
          "height": 35
        }
      },
      "source": [
        "# 주어진 변수(list_xx) 직접 수정불가\n",
        "list_xx = [1, 2, 3]\n",
        "list_xx.append(4)\n",
        "list_xx.append(5)\n",
        "list_xx.append(6)\n",
        "\n",
        "print(list_xx)"
      ],
      "execution_count": 0,
      "outputs": [
        {
          "output_type": "stream",
          "text": [
            "[1, 2, 3, 4, 5, 6]\n"
          ],
          "name": "stdout"
        }
      ]
    },
    {
      "cell_type": "markdown",
      "metadata": {
        "id": "h3-bFQ8hE2T_",
        "colab_type": "text"
      },
      "source": [
        "**xx번 문제(Hypothesis)**\n",
        "\n",
        "다음 공식은 원의 넓이를 구하는 공식입니다. 다음과 같이 값이 주어졌을때 원의 넓이 값을 구하시요.\n",
        "\n",
        "  * r=4\n",
        "\n",
        "s(r) = r&#10043;r&#10043;π\n",
        "\n",
        "\n",
        "정답 : 16π"
      ]
    },
    {
      "cell_type": "markdown",
      "metadata": {
        "id": "IiODQ-xGqJSx",
        "colab_type": "text"
      },
      "source": [
        "# 파이썬 문제"
      ]
    },
    {
      "cell_type": "markdown",
      "metadata": {
        "id": "fTHNBdMiGMZt",
        "colab_type": "text"
      },
      "source": [
        "##01번 문제(Data Type)\n",
        "\n",
        "다음 변수 a, 변수 b, 변수 c의 자료형을 출력하세요."
      ]
    },
    {
      "cell_type": "code",
      "metadata": {
        "id": "8W6MKab0GdpR",
        "colab_type": "code",
        "outputId": "4a42b1dc-64bf-4790-b4fc-cc45f9740637",
        "colab": {
          "base_uri": "https://localhost:8080/",
          "height": 71
        }
      },
      "source": [
        "# 주어진 변수(a, b, c) 직접 수정불가\n",
        "a = 'str'\n",
        "b = 123\n",
        "c = True\n",
        "\n",
        "\n",
        "print(a)\n",
        "print(b)\n",
        "print(c)"
      ],
      "execution_count": 0,
      "outputs": [
        {
          "output_type": "stream",
          "text": [
            "str\n",
            "123\n",
            "True\n"
          ],
          "name": "stdout"
        }
      ]
    },
    {
      "cell_type": "markdown",
      "metadata": {
        "id": "TSMaBpb6IiTJ",
        "colab_type": "text"
      },
      "source": [
        "##02번 문제(for문)\n",
        "\n",
        "다음 변수 num_list에 있는 요소를 모두 더한 값을 for문을 활용하여 변수 answer에 저장하고 그 값을 출력하세요."
      ]
    },
    {
      "cell_type": "code",
      "metadata": {
        "id": "vEHSvfC6IzCQ",
        "colab_type": "code",
        "outputId": "5193f876-8aa7-4abc-fb62-c9aaae47d017",
        "colab": {
          "base_uri": "https://localhost:8080/",
          "height": 35
        }
      },
      "source": [
        "# 주어진 변수(num_list) 직접 수정 불가\n",
        "# for문을 사용하지 않은 경우 오답처리\n",
        "num_list = [1,2,3,4,5,6,7,8,9]\n",
        "answer = 0\n",
        "\n",
        "sum=0\n",
        "for i in num_list:\n",
        "  sum += i\n",
        "\n",
        "print(sum)"
      ],
      "execution_count": 0,
      "outputs": [
        {
          "output_type": "stream",
          "text": [
            "45\n"
          ],
          "name": "stdout"
        }
      ]
    },
    {
      "cell_type": "markdown",
      "metadata": {
        "id": "GTRstcigxgSL",
        "colab_type": "text"
      },
      "source": [
        ""
      ]
    },
    {
      "cell_type": "markdown",
      "metadata": {
        "id": "k-0kp2DsRKk0",
        "colab_type": "text"
      },
      "source": [
        "##03번 문제(slice string)\n",
        "\n",
        "다음 변수 date를 슬라이스해서 year(년), month(월), day(일)를 각각 출력하세요. (출력:2020 05 11)\n",
        "\n",
        "(tip:None을 지우고 date를 슬라이싱해서 각각의 데이터를 저장하세요!)"
      ]
    },
    {
      "cell_type": "code",
      "metadata": {
        "id": "JsBVp3LXRssG",
        "colab_type": "code",
        "outputId": "f00e32d9-df8c-4323-fa1f-b5403282d3a4",
        "colab": {
          "base_uri": "https://localhost:8080/",
          "height": 35
        }
      },
      "source": [
        "# 주어진 변수(date)만 직접 수정불가, 다른 year, month, day 변수는 직접 수정가능\n",
        "# 슬라이스를 사용 안 할 경우 오답처리\n",
        "date = '20200511'\n",
        "\n",
        "a = 2020\n",
        "b = 5\n",
        "c = 11\n",
        "\n",
        "print(a,b,c)"
      ],
      "execution_count": 0,
      "outputs": [
        {
          "output_type": "stream",
          "text": [
            "2020 5 11\n"
          ],
          "name": "stdout"
        }
      ]
    },
    {
      "cell_type": "markdown",
      "metadata": {
        "id": "3fdB-ehKYj1U",
        "colab_type": "text"
      },
      "source": [
        "##04번 문제(for)\n",
        "\n",
        "다음 변수 summary에 1부터 100까지 모두 더한 값을 지정하여 출력하세요."
      ]
    },
    {
      "cell_type": "code",
      "metadata": {
        "id": "zUCsvF_AYt0r",
        "colab_type": "code",
        "outputId": "b1e47f10-534e-461d-f693-15ed50bfbc76",
        "colab": {
          "base_uri": "https://localhost:8080/",
          "height": 35
        }
      },
      "source": [
        "# 주어진 변수(summary) 직접 수정불가\n",
        "summary=0\n",
        "for i in range(1,101):\n",
        "  summary = summary + i\n",
        "  \n",
        "print(summary)"
      ],
      "execution_count": 0,
      "outputs": [
        {
          "output_type": "stream",
          "text": [
            "5050\n"
          ],
          "name": "stdout"
        }
      ]
    },
    {
      "cell_type": "markdown",
      "metadata": {
        "id": "BJiylLaJxhIz",
        "colab_type": "text"
      },
      "source": [
        "##05번 문제(string reverse)\n",
        "\n",
        "다음 변수 hangul의 문자열을 거꾸로 출력하세요.(출력:'사바마라다나가')"
      ]
    },
    {
      "cell_type": "code",
      "metadata": {
        "id": "QglNzedBxwiS",
        "colab_type": "code",
        "outputId": "6bbdec9d-6dda-4e93-9fb8-e8b99263c17c",
        "colab": {
          "base_uri": "https://localhost:8080/",
          "height": 35
        }
      },
      "source": [
        "# 주어진 변수(hangul) 직접 수정불가\n",
        "hangul = '가나다라마바사'\n",
        "\n",
        "#출력\n",
        "\n",
        "hangul_list = list(hangul)\n",
        "hangul_list.reverse()\n",
        "\n",
        "print(''.join(reversed(hangul)))"
      ],
      "execution_count": 0,
      "outputs": [
        {
          "output_type": "stream",
          "text": [
            "사바마라다나가\n"
          ],
          "name": "stdout"
        }
      ]
    },
    {
      "cell_type": "markdown",
      "metadata": {
        "id": "VrDBQD3dQ05_",
        "colab_type": "text"
      },
      "source": [
        "## 06번 문제(str -> list -> int 변환)\n",
        "\n",
        "다음 변수 num에는 공백으로 구분된 4개의 점수가 들어 있습니다. 평균을 구해서 출력하세요."
      ]
    },
    {
      "cell_type": "code",
      "metadata": {
        "id": "GEpPS31gRCNG",
        "colab_type": "code",
        "outputId": "422ec15e-c5b9-49f0-e5a7-9dcac205551b",
        "colab": {
          "base_uri": "https://localhost:8080/",
          "height": 35
        }
      },
      "source": [
        "# 주어진 변수(num) 직접 수정불가\n",
        "num=\"70 50 90 70\"\n",
        "num=[int(i) for i in num.split()]\n",
        "avg=sum(num,0.0)/len(num)\n",
        "print(avg)"
      ],
      "execution_count": 0,
      "outputs": [
        {
          "output_type": "stream",
          "text": [
            "70.0\n"
          ],
          "name": "stdout"
        }
      ]
    },
    {
      "cell_type": "markdown",
      "metadata": {
        "id": "CxmulWoD-l7y",
        "colab_type": "text"
      },
      "source": [
        "## 07번 문제(if문)\n",
        "\n",
        "다음 변수 n에 입력한 값이 짝수일 경우 '짝수'를, 짝수가 아닐 경우 '짝수가 아닙니다'를 판별하여 출력하세요.(출력:짝수 or 짝수가 아닙니다) "
      ]
    },
    {
      "cell_type": "code",
      "metadata": {
        "id": "IOzAY1xT--lp",
        "colab_type": "code",
        "outputId": "9f858e79-43ac-46b2-b373-cfc96fc45a90",
        "colab": {
          "base_uri": "https://localhost:8080/",
          "height": 53
        }
      },
      "source": [
        "# 주어진 변수(n) 직접 수정불가\n",
        "n=int(input('숫자를 입력해주세요'))\n",
        "if n % 2 == 0:\n",
        "  print(\"짝수\")\n",
        "else:\n",
        "  print(\"짝수가 아닙니다\")"
      ],
      "execution_count": 0,
      "outputs": [
        {
          "output_type": "stream",
          "text": [
            "숫자를 입력해주세요2\n",
            "짝수\n"
          ],
          "name": "stdout"
        }
      ]
    },
    {
      "cell_type": "markdown",
      "metadata": {
        "id": "HuLdgr-2B8ki",
        "colab_type": "text"
      },
      "source": [
        "## 08번 문제(산술 연산 및 list index)\n",
        "\n",
        "직사각형의 대각선의 길이를 구하는 공식은 밑변의 제곱+높이의 제곱=대변의 제곱이다.\n",
        "다음 변수 list_08에는 하나의 직사각형의 밑변과 높이가 저장되어 있습니다.\n",
        "각각 밑변이 3이고 높이가 4일때, 직사각형의 대변의 제곱의 길이를 출력하세요."
      ]
    },
    {
      "cell_type": "code",
      "metadata": {
        "id": "JHsmY8hcCOjb",
        "colab_type": "code",
        "outputId": "104a56e1-f17a-4d41-d39e-11e699557dcc",
        "colab": {
          "base_uri": "https://localhost:8080/",
          "height": 35
        }
      },
      "source": [
        "# 주어진 변수(list_08) 직접 수정불가\n",
        "list_08 = [3,4]\n",
        "print(3**2+4**2)"
      ],
      "execution_count": 0,
      "outputs": [
        {
          "output_type": "stream",
          "text": [
            "25\n"
          ],
          "name": "stdout"
        }
      ]
    },
    {
      "cell_type": "markdown",
      "metadata": {
        "id": "pK-Xc7EYK14J",
        "colab_type": "text"
      },
      "source": [
        "## 09번 문제(소수 판별 프로그램)\n",
        "\n",
        "입력받은 숫자가 소수인지 아닌지 출력하는 프로그램을 작성해주세요.(소수or소수가 아닙니다)"
      ]
    },
    {
      "cell_type": "code",
      "metadata": {
        "id": "eOGhfBqgLAEg",
        "colab_type": "code",
        "outputId": "fd43d53e-b6c8-4f63-f0ff-429f7d7cf830",
        "colab": {
          "base_uri": "https://localhost:8080/",
          "height": 53
        }
      },
      "source": [
        "# 주어진 변수(num_10) 직접 수정불가\n",
        "# 함수(prime_number) 직접 수정가능\n",
        "num_10 = int(input('숫자를 입력해주세요'))\n",
        "\n",
        "def prime_number(number):\n",
        "  pass\n",
        "\n",
        "def prime_number(number):\n",
        "  if number != 1:\n",
        "    for f in range(2, number):\n",
        "      if number % f == 0:\n",
        "        return False\n",
        "\n",
        "  else:\n",
        "    return False\n",
        "\n",
        "  return True\n",
        "\n",
        "if prime_number(num_10):\n",
        "  print(\"소수입니다.\")\n",
        "else:\n",
        "  print(\"소수가 아닙니다.\")"
      ],
      "execution_count": 0,
      "outputs": [
        {
          "output_type": "stream",
          "text": [
            "숫자를 입력해주세요13\n",
            "소수입니다.\n"
          ],
          "name": "stdout"
        }
      ]
    },
    {
      "cell_type": "markdown",
      "metadata": {
        "id": "rOwG91thqFWl",
        "colab_type": "text"
      },
      "source": [
        "# 인공지능 수학 문제"
      ]
    },
    {
      "cell_type": "markdown",
      "metadata": {
        "id": "vpvtiPH5qhcO",
        "colab_type": "text"
      },
      "source": [
        "## 1번 문제(Hypothesis)\n",
        "\n",
        "다음 공식은 Hypothesis를 구하는 공식입니다. 다음과 같이 값이 주어졌을때 H(x)의 값을 구하시오.\n",
        "\n",
        "   + W = 3\n",
        "   + x = 10\n",
        "   + b = 1"
      ]
    },
    {
      "cell_type": "markdown",
      "metadata": {
        "id": "oZ_JgDyCq3so",
        "colab_type": "text"
      },
      "source": [
        "# $$h(x) = Wx + b$$"
      ]
    },
    {
      "cell_type": "markdown",
      "metadata": {
        "id": "Hx9JejLYq9eB",
        "colab_type": "text"
      },
      "source": [
        "#### 정답 : 10"
      ]
    },
    {
      "cell_type": "markdown",
      "metadata": {
        "id": "fOo10mvUwCda",
        "colab_type": "text"
      },
      "source": [
        "## 2번 문제 (cost function)\n",
        "\n",
        "다음 공식은 cost를 구하는 공식입니다. 다음과 같이 값이 주어졌을때 cost의 값을 구하세요.\n",
        "\n",
        "   + w = 2\n",
        "   + x = [2,4,8]\n",
        "   + y = [5,12,21]\n",
        "\n",
        "(tip: x1=2, y1=5 / x2=4, y2=12 / x3=8. y3=21)\n"
      ]
    },
    {
      "cell_type": "markdown",
      "metadata": {
        "id": "HigWarxqzdLI",
        "colab_type": "text"
      },
      "source": [
        "![대체 텍스트](https://smartstuartkim.files.wordpress.com/2018/12/costfunction.png?w=550)"
      ]
    },
    {
      "cell_type": "markdown",
      "metadata": {
        "id": "JLaYMOdzzSl-",
        "colab_type": "text"
      },
      "source": [
        " #### 정답 : 14"
      ]
    },
    {
      "cell_type": "markdown",
      "metadata": {
        "id": "q5TqiX662xLM",
        "colab_type": "text"
      },
      "source": [
        "## 3번 문제 (Logistic regression sigmoid function)\n",
        "\n",
        "다음 공식은 로지스틱 시그모이드 함수입니다. x가 **양의 무한대로** 갈때 f(x)가 수렴하는 값을 구하세요."
      ]
    },
    {
      "cell_type": "markdown",
      "metadata": {
        "id": "nYGI_lXo3E4I",
        "colab_type": "text"
      },
      "source": [
        "![대체 텍스트](https://prwatech.in/blog/wp-content/uploads/2020/02/logi3.png)"
      ]
    },
    {
      "cell_type": "markdown",
      "metadata": {
        "id": "A70sjV-c3IwU",
        "colab_type": "text"
      },
      "source": [
        " #### 정답 : 1"
      ]
    }
  ]
}